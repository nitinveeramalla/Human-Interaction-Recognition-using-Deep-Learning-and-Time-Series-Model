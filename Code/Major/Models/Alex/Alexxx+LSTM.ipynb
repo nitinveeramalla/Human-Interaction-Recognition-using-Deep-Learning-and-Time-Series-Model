{
 "cells": [
  {
   "cell_type": "code",
   "execution_count": 1,
   "metadata": {},
   "outputs": [
    {
     "data": {
      "text/plain": [
       "'D:\\\\Major\\\\Models\\\\Alex'"
      ]
     },
     "execution_count": 1,
     "metadata": {},
     "output_type": "execute_result"
    }
   ],
   "source": [
    "import os\n",
    "os.getcwd()"
   ]
  },
  {
   "cell_type": "code",
   "execution_count": 2,
   "metadata": {},
   "outputs": [
    {
     "name": "stderr",
     "output_type": "stream",
     "text": [
      "Using TensorFlow backend.\n"
     ]
    },
    {
     "name": "stdout",
     "output_type": "stream",
     "text": [
      "-------------------Libraries Loaded Successfully!!!-------------------------------------------\n"
     ]
    }
   ],
   "source": [
    "try:\n",
    "\n",
    "    # --------General------------\n",
    "    import cv2 as cv2\n",
    "    import os\n",
    "    import pickle\n",
    "    import numpy as np\n",
    "    import matplotlib.pyplot as plt\n",
    "    import pandas as pd\n",
    "    import time as t\n",
    "\n",
    "    # ----sklearn----------------\n",
    "    from sklearn.utils import shuffle\n",
    "    from sklearn.model_selection import train_test_split\n",
    "\n",
    "    from keras.utils import np_utils\n",
    "    # --------Tensorflow---------\n",
    "    import tensorflow as tf\n",
    "\n",
    "\n",
    "    # --------Keras--------------\n",
    "    import keras\n",
    "    from keras import backend as K\n",
    "    # K.set_image_dim_ordering('th')\n",
    "    from keras.callbacks import ModelCheckpoint, EarlyStopping\n",
    "    from keras import layers, callbacks\n",
    "    from keras.models import Model\n",
    "    from keras.models import Sequential\n",
    "    from keras.layers import Dense, Dropout, Activation, Flatten, Conv2D, MaxPooling2D, BatchNormalization,LSTM\n",
    "    from keras.optimizers import SGD, RMSprop, Adam, Adagrad, Adadelta, RMSprop\n",
    "    print(\"-------------------Libraries Loaded Successfully!!!-------------------------------------------\")\n",
    "except:\n",
    "    print(\"Library not Found ! \")\n"
   ]
  },
  {
   "cell_type": "code",
   "execution_count": 3,
   "metadata": {},
   "outputs": [],
   "source": [
    "PATH = \"D:/Major/Models/Alex/segmented_frameset_resized/train/\"# Change PATH\n"
   ]
  },
  {
   "cell_type": "code",
   "execution_count": 4,
   "metadata": {},
   "outputs": [],
   "source": [
    "# HELPER FUNCTION FOR LABELLING\n",
    "def get_label(img): \n",
    "    x=img[(img.rindex(\"_\"))-1]\n",
    "    return int(x)"
   ]
  },
  {
   "cell_type": "code",
   "execution_count": 5,
   "metadata": {},
   "outputs": [],
   "source": [
    "# HELPER FUNCTION TO CONVERT FRAMES TO ARRAY\n",
    "def process_frames(PATH,IMAGE_SIZE):\n",
    "    # List Variables\n",
    "\n",
    "    image_data = []\n",
    "    x_data = []\n",
    "    y_data = []\n",
    "\n",
    "    for im in os.listdir(PATH):\n",
    "        path = os.path.join(PATH, im)\n",
    "        class_label = int(get_label(im))\n",
    "\n",
    "        try:  # if any image is corrupted\n",
    "            image_temp = cv2.imread(path)  # Read Image as numbers\n",
    "            image_temp_resize = cv2.resize(image_temp, (IMAGE_SIZE, IMAGE_SIZE))\n",
    "            image_data.append([image_temp_resize])\n",
    "            y_data.append(class_label)\n",
    "        except:\n",
    "            pass\n",
    "    data = np.asanyarray(image_data)\n",
    "    # Iterate over the Data\n",
    "    for x in data:\n",
    "        x_data.append(x[0])  # Get the X_Data\n",
    "\n",
    "    X_Data = np.asarray(x_data) # Normalize Data\n",
    "    Y_Data =np.asarray(y_data)\n",
    "\n",
    "\n",
    "    return X_Data,Y_Data\n",
    "\n"
   ]
  },
  {
   "cell_type": "code",
   "execution_count": 6,
   "metadata": {},
   "outputs": [],
   "source": [
    "# HELPER FUNCTION TO DUMP INTO PICKEL \n",
    "def pickle_image(PATH,IMAGE_SIZE):\n",
    "\n",
    "        \"\"\"\n",
    "        :return: None, Creates a Pickle Object of DataSet into CWD\n",
    "        \"\"\"\n",
    "        # Call the Function and Get the Data\n",
    "        X_Data,Y_Data = process_frames(PATH,IMAGE_SIZE)\n",
    "\n",
    "        # Write the Entire Data into a Pickle File\n",
    "        pickle_out = open('X_Data','wb')\n",
    "        pickle.dump(X_Data, pickle_out)\n",
    "        pickle_out.close()\n",
    "\n",
    "        # Write the Y Label Data\n",
    "        pickle_out = open('Y_Data', 'wb')\n",
    "        pickle.dump(Y_Data, pickle_out)\n",
    "        pickle_out.close()\n",
    "\n",
    "        print(\"Pickled Images Successfully at \", os.getcwd())\n",
    "        return X_Data,Y_Data\n"
   ]
  },
  {
   "cell_type": "code",
   "execution_count": 7,
   "metadata": {},
   "outputs": [],
   "source": [
    "# HELPER FUNCTION TO LOAD IN THE DATA\n",
    "def load_dataset(PATH , IMAGE_SIZE):\n",
    "    try:\n",
    "        # Read the Data from Pickle Object\n",
    "        X_Temp = open('X_Data', 'rb')\n",
    "        X_Data = pickle.load(X_Temp)\n",
    "\n",
    "        Y_Temp = open('Y_Data', 'rb')\n",
    "        Y_Data = pickle.load(Y_Temp)\n",
    "\n",
    "        print('Reading Dataset from Pickle Object in ',os.getcwd())\n",
    "\n",
    "        return X_Data, Y_Data\n",
    "\n",
    "    except:\n",
    "        print('Could not Found Pickle File ')\n",
    "        print('Loading File and Dataset  ..........')\n",
    "        X_Data, Y_Data = pickle_image(PATH , IMAGE_SIZE)\n",
    "        return X_Data, Y_Data"
   ]
  },
  {
   "cell_type": "code",
   "execution_count": 8,
   "metadata": {},
   "outputs": [],
   "source": [
    "def load_test(path):\n",
    "    dat = os.listdir(path)\n",
    "    img_data_list = []\n",
    "    l=[]\n",
    "\n",
    "    for im in dat:\n",
    "        l.append(get_label(im))\n",
    "        inp = cv2.imread(path + im)\n",
    "        img_data_list.append(inp)\n",
    "\n",
    "    # img_data_list #list shape is [ n_samples x [64 x 64 ] ]\n",
    "    img_data = np.array(img_data_list)\n",
    "    img_data = img_data.astype('float32')\n",
    "    img_data /= 255\n",
    "\n",
    "    return img_data,l\n"
   ]
  },
  {
   "cell_type": "code",
   "execution_count": 9,
   "metadata": {},
   "outputs": [],
   "source": [
    "def pickle_imageval(PATH,IMAGE_SIZE):\n",
    "    \"\"\"\n",
    "    :return: None, Creates a Pickle Object of DataSet into CWD\n",
    "    \"\"\"\n",
    "    # Call the Function and Get the Data\n",
    "    X_Data,Y_Data = process_frames(PATH,IMAGE_SIZE)\n",
    "    # Write the Entire Data into a Pickle File\n",
    "    pickle_out = open('Xval_Data','wb')\n",
    "    pickle.dump(X_Data, pickle_out)\n",
    "    pickle_out.close()\n",
    "    # Write the Y Label Data\n",
    "    pickle_out = open('Yval_Data', 'wb')\n",
    "    pickle.dump(Y_Data, pickle_out)\n",
    "    pickle_out.close()\n",
    "    print(\"Pickled Images Successfully at \", os.getcwd())\n",
    "    return X_Data,Y_Data\n",
    "\n",
    "def load_val(PATH,IMAGE_SIZE):\n",
    "    try:\n",
    "        # Read the Data from Pickle Object\n",
    "        X_Temp = open('Xval_Data', 'rb')\n",
    "        X_Data = pickle.load(X_Temp)\n",
    "\n",
    "        Y_Temp = open('Yval_Data', 'rb')\n",
    "        Y_Data = pickle.load(Y_Temp)\n",
    "\n",
    "        print('Reading Dataset from Pickle Object in ',os.getcwd())\n",
    "\n",
    "        return X_Data, Y_Data\n",
    "\n",
    "    except:\n",
    "        print('Could not Found Pickle File ')\n",
    "        print('Loading File and Dataset  ..........')\n",
    "        X_Data, Y_Data = pickle_imageval(PATH , IMAGE_SIZE)\n",
    "        return X_Data, Y_Data\n"
   ]
  },
  {
   "cell_type": "markdown",
   "metadata": {},
   "source": [
    "<b>----------------------------------Loading the train data----------------------------------------------------------------------<b>"
   ]
  },
  {
   "cell_type": "code",
   "execution_count": 10,
   "metadata": {
    "scrolled": true
   },
   "outputs": [
    {
     "name": "stdout",
     "output_type": "stream",
     "text": [
      "Reading Dataset from Pickle Object in  D:\\Major\\Models\\Alex\n"
     ]
    }
   ],
   "source": [
    "#Informarion\n",
    "PATH = \"D:/Major/Models/Alex/segmented_frameset_resized/train/\" # CHANGE THE PATH\n",
    "IMAGE_SIZE = 64\n",
    "\n",
    "# Loading the dataset\n",
    "X_train,Y_train=load_dataset(PATH , IMAGE_SIZE)\n",
    "\n",
    "#Converting labels into one hot\n",
    "labels_train=np.array(Y_train)\n",
    "num_classes=6\n",
    "Y_train = np_utils.to_categorical(labels_train, num_classes)#onehot class Labels\n",
    "\n",
    "# Class Labels\n",
    "cl=[\"HandShaking\",\"Hugging\",\"Kicking\",\"Pointing\",\"Punching\",\"PUSHING\"]\n",
    "\n"
   ]
  },
  {
   "cell_type": "code",
   "execution_count": 11,
   "metadata": {},
   "outputs": [
    {
     "name": "stdout",
     "output_type": "stream",
     "text": [
      "Reading Dataset from Pickle Object in  D:\\Major\\Models\\Alex\n"
     ]
    }
   ],
   "source": [
    "# Loading the dataset\n",
    "#Informarion\n",
    "PATHtest = \"D:/Major/Models/Alex/segmented_frameset_resized/validation/\" # CHANGE THE PATH\n",
    "\n",
    "X_test,Y_test=load_val(PATHtest , IMAGE_SIZE)\n",
    "\n",
    "#Converting labels into one hot\n",
    "labels_test=np.array(Y_test)\n",
    "num_classes=6\n",
    "Y_test = np_utils.to_categorical(labels_test, num_classes)#onehot class Labels\n"
   ]
  },
  {
   "cell_type": "code",
   "execution_count": 12,
   "metadata": {},
   "outputs": [
    {
     "data": {
      "text/plain": [
       "<matplotlib.image.AxesImage at 0x2bfa51e77c8>"
      ]
     },
     "execution_count": 12,
     "metadata": {},
     "output_type": "execute_result"
    },
    {
     "data": {
      "image/png": "[encoded data removed]",
      "text/plain": [
       "<Figure size 432x288 with 1 Axes>"
      ]
     },
     "metadata": {
      "needs_background": "light"
     },
     "output_type": "display_data"
    }
   ],
   "source": [
    "plt.imshow(X_train[0])"
   ]
  },
  {
   "cell_type": "code",
   "execution_count": 13,
   "metadata": {},
   "outputs": [
    {
     "data": {
      "text/plain": [
       "<matplotlib.image.AxesImage at 0x2bfa52a5408>"
      ]
     },
     "execution_count": 13,
     "metadata": {},
     "output_type": "execute_result"
    },
    {
     "data": {
      "image/png": "[encoded data removed]",
      "text/plain": [
       "<Figure size 432x288 with 1 Axes>"
      ]
     },
     "metadata": {
      "needs_background": "light"
     },
     "output_type": "display_data"
    }
   ],
   "source": [
    "plt.imshow(X_test[0])"
   ]
  },
  {
   "cell_type": "markdown",
   "metadata": {},
   "source": [
    "<b>--------------Loading data into train test--------------------------------------------------------------\n",
    " <b>"
   ]
  },
  {
   "cell_type": "code",
   "execution_count": 14,
   "metadata": {},
   "outputs": [
    {
     "name": "stdout",
     "output_type": "stream",
     "text": [
      "Shape of train set and labels: (480, 64, 64, 3) (480, 6)\n",
      "Shape of test set and labels: (120, 64, 64, 3) (120, 6)\n",
      "Input Shape of Each Image: (64, 64, 3)\n"
     ]
    }
   ],
   "source": [
    "\n",
    "epochs =  30\n",
    "batch_size = int(.25 * 480)\n",
    "if batch_size > 128:\n",
    "    batch_size = 128 # batch size caps at 128\n",
    "\n",
    "print(\"Shape of train set and labels:\",X_train.shape,Y_train.shape)\n",
    "print(\"Shape of test set and labels:\",X_test.shape,Y_test.shape)\n",
    "\n",
    "\n",
    "\n",
    "x_train = X_train.astype('float32')\n",
    "x_test = X_test.astype('float32')\n",
    "x_train /= 255\n",
    "x_test /= 255\n",
    "\n",
    "#input shape\n",
    "input_shape=X_train[0].shape\n",
    "print(\"Input Shape of Each Image:\",input_shape)\n",
    "\n"
   ]
  },
  {
   "cell_type": "markdown",
   "metadata": {},
   "source": [
    "<b>AlexNet Model<b>"
   ]
  },
  {
   "cell_type": "code",
   "execution_count": 15,
   "metadata": {},
   "outputs": [
    {
     "name": "stdout",
     "output_type": "stream",
     "text": [
      "Model: \"sequential_1\"\n",
      "_________________________________________________________________\n",
      "Layer (type)                 Output Shape              Param #   \n",
      "=================================================================\n",
      "conv2d_1 (Conv2D)            (None, 64, 64, 64)        23296     \n",
      "_________________________________________________________________\n",
      "batch_normalization_1 (Batch (None, 64, 64, 64)        256       \n",
      "_________________________________________________________________\n",
      "activation_1 (Activation)    (None, 64, 64, 64)        0         \n",
      "_________________________________________________________________\n",
      "max_pooling2d_1 (MaxPooling2 (None, 32, 32, 64)        0         \n",
      "_________________________________________________________________\n",
      "conv2d_2 (Conv2D)            (None, 32, 32, 128)       204928    \n",
      "_________________________________________________________________\n",
      "batch_normalization_2 (Batch (None, 32, 32, 128)       512       \n",
      "_________________________________________________________________\n",
      "activation_2 (Activation)    (None, 32, 32, 128)       0         \n",
      "_________________________________________________________________\n",
      "max_pooling2d_2 (MaxPooling2 (None, 16, 16, 128)       0         \n",
      "_________________________________________________________________\n",
      "conv2d_3 (Conv2D)            (None, 16, 16, 256)       295168    \n",
      "_________________________________________________________________\n",
      "batch_normalization_3 (Batch (None, 16, 16, 256)       1024      \n",
      "_________________________________________________________________\n",
      "activation_3 (Activation)    (None, 16, 16, 256)       0         \n",
      "_________________________________________________________________\n",
      "max_pooling2d_3 (MaxPooling2 (None, 8, 8, 256)         0         \n",
      "_________________________________________________________________\n",
      "conv2d_4 (Conv2D)            (None, 8, 8, 512)         1180160   \n",
      "_________________________________________________________________\n",
      "batch_normalization_4 (Batch (None, 8, 8, 512)         2048      \n",
      "_________________________________________________________________\n",
      "activation_4 (Activation)    (None, 8, 8, 512)         0         \n",
      "_________________________________________________________________\n",
      "max_pooling2d_4 (MaxPooling2 (None, 4, 4, 512)         0         \n",
      "_________________________________________________________________\n",
      "flatten_1 (Flatten)          (None, 8192)              0         \n",
      "_________________________________________________________________\n",
      "dense_1 (Dense)              (None, 1024)              8389632   \n",
      "_________________________________________________________________\n",
      "batch_normalization_5 (Batch (None, 1024)              4096      \n",
      "_________________________________________________________________\n",
      "activation_5 (Activation)    (None, 1024)              0         \n",
      "_________________________________________________________________\n",
      "dropout_1 (Dropout)          (None, 1024)              0         \n",
      "_________________________________________________________________\n",
      "dense_2 (Dense)              (None, 512)               524800    \n",
      "_________________________________________________________________\n",
      "batch_normalization_6 (Batch (None, 512)               2048      \n",
      "_________________________________________________________________\n",
      "activation_6 (Activation)    (None, 512)               0         \n",
      "_________________________________________________________________\n",
      "last_layer (Dropout)         (None, 512)               0         \n",
      "_________________________________________________________________\n",
      "dense_3 (Dense)              (None, 6)                 3078      \n",
      "_________________________________________________________________\n",
      "batch_normalization_7 (Batch (None, 6)                 24        \n",
      "_________________________________________________________________\n",
      "activation_7 (Activation)    (None, 6)                 0         \n",
      "=================================================================\n",
      "Total params: 10,631,070\n",
      "Trainable params: 10,626,066\n",
      "Non-trainable params: 5,004\n",
      "_________________________________________________________________\n"
     ]
    }
   ],
   "source": [
    "\n",
    "model = Sequential()\n",
    "model.add(Conv2D(64, (11,11),padding='same', input_shape=(64,64,3)))\n",
    "model.add(BatchNormalization())\n",
    "model.add(Activation('relu'))\n",
    "model.add(MaxPooling2D(pool_size=(2, 2)))\n",
    "\n",
    "model.add(Conv2D(128, (5,5), padding='same'))\n",
    "model.add(BatchNormalization())\n",
    "model.add(Activation('relu'))\n",
    "model.add(MaxPooling2D(pool_size=(2, 2)))\n",
    "\n",
    "model.add(Conv2D(256, (3,3),padding='same'))\n",
    "model.add(BatchNormalization())\n",
    "model.add(Activation('relu'))\n",
    "model.add(MaxPooling2D(pool_size=(2, 2)))\n",
    "\n",
    "model.add(Conv2D(512, (3,3),padding='same'))\n",
    "model.add(BatchNormalization())\n",
    "model.add(Activation('relu'))\n",
    "model.add(MaxPooling2D(pool_size=(2, 2)))\n",
    "\n",
    "model.add(Flatten())\n",
    "model.add(Dense(1024))\n",
    "model.add(BatchNormalization())\n",
    "model.add(Activation('relu'))\n",
    "model.add(Dropout(0.5))\n",
    "\n",
    "model.add(Dense(512))\n",
    "model.add(BatchNormalization())\n",
    "model.add(Activation('relu'))\n",
    "model.add(Dropout(0.5,name='last_layer'))\n",
    "\n",
    "model.add(Dense(6))\n",
    "model.add(BatchNormalization())\n",
    "model.add(Activation('softmax'))\n",
    "\n",
    "model.summary()"
   ]
  },
  {
   "cell_type": "code",
   "execution_count": null,
   "metadata": {},
   "outputs": [],
   "source": []
  },
  {
   "cell_type": "markdown",
   "metadata": {},
   "source": [
    "<b>training the model to get estimate time<b>\n"
   ]
  },
  {
   "cell_type": "code",
   "execution_count": 16,
   "metadata": {},
   "outputs": [
    {
     "name": "stdout",
     "output_type": "stream",
     "text": [
      "Train on 480 samples, validate on 120 samples\n",
      "Epoch 1/30\n",
      "480/480 [==============================] - 9s 19ms/step - loss: 1.9315 - accuracy: 0.2771 - val_loss: 1597.4525 - val_accuracy: 0.1667\n",
      "Epoch 2/30\n",
      "480/480 [==============================] - 2s 3ms/step - loss: 1.5164 - accuracy: 0.4104 - val_loss: 707.3188 - val_accuracy: 0.1583\n",
      "Epoch 3/30\n",
      "480/480 [==============================] - 2s 3ms/step - loss: 1.3119 - accuracy: 0.5229 - val_loss: 1195.8648 - val_accuracy: 0.1667\n",
      "Epoch 4/30\n",
      "480/480 [==============================] - 2s 3ms/step - loss: 1.1581 - accuracy: 0.5813 - val_loss: 437.8759 - val_accuracy: 0.1667\n",
      "Epoch 5/30\n",
      "480/480 [==============================] - 2s 3ms/step - loss: 1.0238 - accuracy: 0.6875 - val_loss: 495.6534 - val_accuracy: 0.1667\n",
      "Epoch 6/30\n",
      "480/480 [==============================] - 2s 3ms/step - loss: 0.9463 - accuracy: 0.7083 - val_loss: 296.1041 - val_accuracy: 0.1667\n",
      "Epoch 7/30\n",
      "480/480 [==============================] - 2s 3ms/step - loss: 1.0309 - accuracy: 0.6479 - val_loss: 324.7934 - val_accuracy: 0.1667\n",
      "Epoch 8/30\n",
      "480/480 [==============================] - 2s 3ms/step - loss: 0.8456 - accuracy: 0.7792 - val_loss: 343.7301 - val_accuracy: 0.1667\n",
      "Epoch 9/30\n",
      "480/480 [==============================] - 2s 3ms/step - loss: 0.7135 - accuracy: 0.8417 - val_loss: 333.5511 - val_accuracy: 0.1667\n",
      "Epoch 10/30\n",
      "480/480 [==============================] - 2s 3ms/step - loss: 0.6463 - accuracy: 0.8729 - val_loss: 275.6725 - val_accuracy: 0.1667\n",
      "Epoch 11/30\n",
      "480/480 [==============================] - ETA: 0s - loss: 0.6274 - accuracy: 0.89 - 2s 3ms/step - loss: 0.6255 - accuracy: 0.8958 - val_loss: 164.5954 - val_accuracy: 0.1750\n",
      "Epoch 12/30\n",
      "480/480 [==============================] - 2s 3ms/step - loss: 0.5530 - accuracy: 0.9146 - val_loss: 186.4760 - val_accuracy: 0.1667\n",
      "Epoch 13/30\n",
      "480/480 [==============================] - 2s 3ms/step - loss: 0.5091 - accuracy: 0.9417 - val_loss: 240.4876 - val_accuracy: 0.1667\n",
      "Epoch 14/30\n",
      "480/480 [==============================] - 2s 3ms/step - loss: 0.4869 - accuracy: 0.9333 - val_loss: 104.5346 - val_accuracy: 0.1750\n",
      "Epoch 15/30\n",
      "480/480 [==============================] - 2s 3ms/step - loss: 0.4348 - accuracy: 0.9667 - val_loss: 80.4202 - val_accuracy: 0.1750\n",
      "Epoch 16/30\n",
      "480/480 [==============================] - 2s 3ms/step - loss: 0.4265 - accuracy: 0.9563 - val_loss: 75.7146 - val_accuracy: 0.2083\n",
      "Epoch 17/30\n",
      "480/480 [==============================] - 2s 3ms/step - loss: 0.3963 - accuracy: 0.9729 - val_loss: 66.8551 - val_accuracy: 0.2000\n",
      "Epoch 18/30\n",
      "480/480 [==============================] - 2s 3ms/step - loss: 0.3649 - accuracy: 0.9729 - val_loss: 70.2583 - val_accuracy: 0.1667\n",
      "Epoch 19/30\n",
      "480/480 [==============================] - 2s 3ms/step - loss: 0.3487 - accuracy: 0.9896 - val_loss: 83.8829 - val_accuracy: 0.1667\n",
      "Epoch 20/30\n",
      "480/480 [==============================] - 2s 3ms/step - loss: 0.3395 - accuracy: 0.9812 - val_loss: 82.1796 - val_accuracy: 0.1750\n",
      "Epoch 21/30\n",
      "480/480 [==============================] - 2s 3ms/step - loss: 0.3204 - accuracy: 0.9896 - val_loss: 87.6841 - val_accuracy: 0.1833\n",
      "Epoch 22/30\n",
      "480/480 [==============================] - 2s 3ms/step - loss: 0.3309 - accuracy: 0.9854 - val_loss: 98.8283 - val_accuracy: 0.1667\n",
      "Epoch 23/30\n",
      "480/480 [==============================] - 2s 3ms/step - loss: 0.3132 - accuracy: 0.9896 - val_loss: 139.3983 - val_accuracy: 0.1667\n",
      "Epoch 24/30\n",
      "480/480 [==============================] - 2s 3ms/step - loss: 0.2959 - accuracy: 0.9896 - val_loss: 91.2983 - val_accuracy: 0.1667\n",
      "Epoch 25/30\n",
      "480/480 [==============================] - 2s 3ms/step - loss: 0.2931 - accuracy: 0.9937 - val_loss: 113.6236 - val_accuracy: 0.1667\n",
      "Epoch 26/30\n",
      "480/480 [==============================] - 2s 3ms/step - loss: 0.3057 - accuracy: 0.9792 - val_loss: 122.8201 - val_accuracy: 0.1667\n",
      "Epoch 27/30\n",
      "480/480 [==============================] - 2s 3ms/step - loss: 0.2807 - accuracy: 0.9833 - val_loss: 161.3610 - val_accuracy: 0.1667\n",
      "Epoch 28/30\n",
      "480/480 [==============================] - 2s 3ms/step - loss: 0.2879 - accuracy: 0.9792 - val_loss: 143.5762 - val_accuracy: 0.1667\n",
      "Epoch 29/30\n",
      "480/480 [==============================] - 2s 3ms/step - loss: 0.2490 - accuracy: 0.9917 - val_loss: 138.8253 - val_accuracy: 0.1667\n",
      "Epoch 30/30\n",
      "480/480 [==============================] - 2s 3ms/step - loss: 0.2215 - accuracy: 0.9979 - val_loss: 136.3345 - val_accuracy: 0.1667\n",
      "traintime- 1.0102356831232706\n"
     ]
    }
   ],
   "source": [
    "model.compile(loss='categorical_crossentropy',\n",
    "                  optimizer='adam',\n",
    "                  metrics=['accuracy'])\n",
    "\n",
    "s=t.time()\n",
    "model.fit(x_train,Y_train,validation_data=[X_test,Y_test],batch_size=25,epochs=30)\n",
    "e=t.time()\n",
    "print(\"traintime-\",((e-s)/60))"
   ]
  },
  {
   "cell_type": "code",
   "execution_count": 17,
   "metadata": {},
   "outputs": [
    {
     "name": "stdout",
     "output_type": "stream",
     "text": [
      "(480, 512)\n",
      "(120, 512)\n",
      "(480, 6)\n",
      "(120, 6)\n"
     ]
    }
   ],
   "source": [
    "\n",
    "# define the layer for feature extraction\n",
    "intermediate_layer = Model(inputs=model.input, outputs=model.get_layer('last_layer').output)\n",
    "\n",
    "feature_engineered_train = intermediate_layer.predict(x_train)\n",
    "feature_engineered_train = pd.DataFrame(feature_engineered_train)\n",
    "\n",
    "feature_engineered_test = intermediate_layer.predict(x_test)\n",
    "feature_engineered_test = pd.DataFrame(feature_engineered_test)\n",
    "\n",
    "\n",
    "print(feature_engineered_train.shape)\n",
    "print(feature_engineered_test.shape)\n",
    "print(Y_train.shape)\n",
    "print(Y_test.shape)"
   ]
  },
  {
   "cell_type": "code",
   "execution_count": 18,
   "metadata": {},
   "outputs": [],
   "source": [
    "#Recombine dataset\n",
    "Features=feature_engineered_train.append(feature_engineered_test, ignore_index=True)\n",
    "Features_labels=np.vstack((Y_train,Y_test))\n"
   ]
  },
  {
   "cell_type": "code",
   "execution_count": 19,
   "metadata": {},
   "outputs": [
    {
     "data": {
      "text/plain": [
       "numpy.ndarray"
      ]
     },
     "execution_count": 19,
     "metadata": {},
     "output_type": "execute_result"
    }
   ],
   "source": [
    "#Convert Pandas dataframe to Numpy to work on them\n",
    "X=Features.to_numpy()\n",
    "type(X)"
   ]
  },
  {
   "cell_type": "code",
   "execution_count": 20,
   "metadata": {},
   "outputs": [],
   "source": [
    "# Creating blocks to feed it to the lstm layer"
   ]
  },
  {
   "cell_type": "code",
   "execution_count": null,
   "metadata": {},
   "outputs": [],
   "source": []
  },
  {
   "cell_type": "code",
   "execution_count": 21,
   "metadata": {},
   "outputs": [],
   "source": [
    "def data_blocks(n,x):\n",
    "    blocks=int(len(x)/n)\n",
    "    X_train=np.array(np.split(x,blocks))\n",
    "    print(X_train.shape,type(X_train))\n",
    "    return X_train"
   ]
  },
  {
   "cell_type": "code",
   "execution_count": 22,
   "metadata": {},
   "outputs": [
    {
     "name": "stdout",
     "output_type": "stream",
     "text": [
      "(120, 5, 512) <class 'numpy.ndarray'>\n"
     ]
    }
   ],
   "source": [
    "X=data_blocks(5,X)"
   ]
  },
  {
   "cell_type": "code",
   "execution_count": 23,
   "metadata": {},
   "outputs": [],
   "source": [
    "def label_blocker(n,y):\n",
    "    Y=[]\n",
    "    for i in range(0,len(y),5):\n",
    "        Y.append(y[i])\n",
    "    return Y"
   ]
  },
  {
   "cell_type": "code",
   "execution_count": 24,
   "metadata": {},
   "outputs": [
    {
     "data": {
      "text/plain": [
       "list"
      ]
     },
     "execution_count": 24,
     "metadata": {},
     "output_type": "execute_result"
    }
   ],
   "source": [
    "y=label_blocker(5,Features_labels)\n",
    "type(y)"
   ]
  },
  {
   "cell_type": "code",
   "execution_count": 25,
   "metadata": {},
   "outputs": [
    {
     "data": {
      "text/plain": [
       "(120, 6)"
      ]
     },
     "execution_count": 25,
     "metadata": {},
     "output_type": "execute_result"
    }
   ],
   "source": [
    "Y=np.array(y)\n",
    "Y.shape"
   ]
  },
  {
   "cell_type": "code",
   "execution_count": 26,
   "metadata": {},
   "outputs": [
    {
     "data": {
      "text/plain": [
       "(120, 5, 512)"
      ]
     },
     "execution_count": 26,
     "metadata": {},
     "output_type": "execute_result"
    }
   ],
   "source": [
    "X.shape"
   ]
  },
  {
   "cell_type": "code",
   "execution_count": null,
   "metadata": {},
   "outputs": [],
   "source": []
  },
  {
   "cell_type": "markdown",
   "metadata": {},
   "source": [
    "## <b>LSTM Training"
   ]
  },
  {
   "cell_type": "code",
   "execution_count": 27,
   "metadata": {},
   "outputs": [
    {
     "name": "stdout",
     "output_type": "stream",
     "text": [
      "Shape of train set and labels: (96, 5, 512) (96, 6)\n",
      "Shape of test set and labels: (24, 5, 512) (24, 6)\n"
     ]
    }
   ],
   "source": [
    "# Split the dataset\n",
    "X_train, X_test, y_train, y_test = train_test_split(X,Y, test_size=0.2, random_state=2)\n",
    "\n",
    "print(\"Shape of train set and labels:\",X_train.shape,y_train.shape)\n",
    "print(\"Shape of test set and labels:\",X_test.shape,y_test.shape)\n"
   ]
  },
  {
   "cell_type": "code",
   "execution_count": 28,
   "metadata": {},
   "outputs": [],
   "source": [
    "#np.save(\"./output/filename.npy\")"
   ]
  },
  {
   "cell_type": "markdown",
   "metadata": {},
   "source": [
    "Early stopping to reduce overfitting"
   ]
  },
  {
   "cell_type": "code",
   "execution_count": 29,
   "metadata": {},
   "outputs": [],
   "source": [
    "c1=ModelCheckpoint(\"./output/lstm.hdf5\",save_best_only=True)\n",
    "c2=EarlyStopping(monitor='val_acc',patience=5,verbose=1)#verbose?\n",
    "callbacks=[c2,c2]"
   ]
  },
  {
   "cell_type": "markdown",
   "metadata": {},
   "source": [
    "<b> MOdel"
   ]
  },
  {
   "cell_type": "code",
   "execution_count": 30,
   "metadata": {},
   "outputs": [],
   "source": [
    "model1=Sequential()\n",
    "model1.add(LSTM(512,input_shape=(5,512),activation='sigmoid',return_sequences=False))\n",
    "model1.add(Dropout(0.2))\n",
    "model1.add(Dense(256,activation='sigmoid'))\n",
    "\n",
    "#model1.add(Dense(100,activation='sigmoid'))\n",
    "\n",
    "model1.add(Dense(6,activation='softmax'))"
   ]
  },
  {
   "cell_type": "code",
   "execution_count": 31,
   "metadata": {},
   "outputs": [],
   "source": [
    "# Training the Model"
   ]
  },
  {
   "cell_type": "code",
   "execution_count": 32,
   "metadata": {},
   "outputs": [
    {
     "name": "stdout",
     "output_type": "stream",
     "text": [
      "Train on 96 samples, validate on 24 samples\n",
      "Epoch 1/15\n",
      "96/96 [==============================] - 0s 5ms/step - loss: 1.9798 - accuracy: 0.1979 - val_loss: 1.5869 - val_accuracy: 0.5417\n",
      "Epoch 2/15\n",
      "96/96 [==============================] - 0s 551us/step - loss: 1.5143 - accuracy: 0.6250 - val_loss: 1.3640 - val_accuracy: 0.6250\n",
      "Epoch 3/15\n",
      "96/96 [==============================] - 0s 540us/step - loss: 1.1998 - accuracy: 0.8125 - val_loss: 1.0883 - val_accuracy: 0.8750\n",
      "Epoch 4/15\n",
      "96/96 [==============================] - 0s 530us/step - loss: 0.9291 - accuracy: 0.8750 - val_loss: 0.8425 - val_accuracy: 0.8750\n",
      "Epoch 5/15\n",
      "96/96 [==============================] - 0s 536us/step - loss: 0.6897 - accuracy: 0.8646 - val_loss: 0.6124 - val_accuracy: 0.8750\n",
      "Epoch 6/15\n",
      "96/96 [==============================] - 0s 518us/step - loss: 0.5144 - accuracy: 0.9167 - val_loss: 0.4879 - val_accuracy: 0.8750\n",
      "Epoch 7/15\n",
      "96/96 [==============================] - 0s 530us/step - loss: 0.4267 - accuracy: 0.8958 - val_loss: 0.4630 - val_accuracy: 0.8750\n",
      "Epoch 8/15\n",
      "96/96 [==============================] - 0s 508us/step - loss: 0.3794 - accuracy: 0.8958 - val_loss: 0.5082 - val_accuracy: 0.8750\n",
      "Epoch 9/15\n",
      "96/96 [==============================] - 0s 523us/step - loss: 0.3500 - accuracy: 0.8854 - val_loss: 0.5340 - val_accuracy: 0.8750\n",
      "Epoch 10/15\n",
      "96/96 [==============================] - 0s 540us/step - loss: 0.3379 - accuracy: 0.8854 - val_loss: 0.5810 - val_accuracy: 0.8750\n",
      "Epoch 11/15\n",
      "96/96 [==============================] - 0s 534us/step - loss: 0.3175 - accuracy: 0.9062 - val_loss: 0.5643 - val_accuracy: 0.8750\n",
      "Epoch 12/15\n",
      "96/96 [==============================] - 0s 561us/step - loss: 0.2815 - accuracy: 0.9062 - val_loss: 0.5722 - val_accuracy: 0.8750\n",
      "Epoch 13/15\n",
      "96/96 [==============================] - 0s 530us/step - loss: 0.2666 - accuracy: 0.9167 - val_loss: 0.5644 - val_accuracy: 0.8750\n",
      "Epoch 14/15\n",
      "96/96 [==============================] - 0s 519us/step - loss: 0.2550 - accuracy: 0.9062 - val_loss: 0.5885 - val_accuracy: 0.8750\n",
      "Epoch 15/15\n",
      "96/96 [==============================] - 0s 498us/step - loss: 0.2421 - accuracy: 0.9167 - val_loss: 0.6050 - val_accuracy: 0.8750\n",
      "traintime- 0.07956350247065226\n"
     ]
    }
   ],
   "source": [
    "model1.compile(loss='categorical_crossentropy',\n",
    "                  optimizer='adam',\n",
    "                  metrics=['accuracy'])\n",
    "\n",
    "s=t.time()\n",
    "history=model1.fit(X_train,y_train,validation_data=[X_test,y_test],epochs=15)\n",
    "e=t.time()\n",
    "print(\"traintime-\",((e-s)/60))"
   ]
  },
  {
   "cell_type": "code",
   "execution_count": null,
   "metadata": {},
   "outputs": [],
   "source": []
  },
  {
   "cell_type": "code",
   "execution_count": 33,
   "metadata": {},
   "outputs": [
    {
     "name": "stdout",
     "output_type": "stream",
     "text": [
      "dict_keys(['val_loss', 'val_accuracy', 'loss', 'accuracy'])\n"
     ]
    },
    {
     "data": {
      "image/png": "[encoded data removed]",
      "text/plain": [
       "<Figure size 432x288 with 1 Axes>"
      ]
     },
     "metadata": {
      "needs_background": "light"
     },
     "output_type": "display_data"
    },
    {
     "data": {
      "image/png": "[encoded data removed]",
      "text/plain": [
       "<Figure size 432x288 with 1 Axes>"
      ]
     },
     "metadata": {
      "needs_background": "light"
     },
     "output_type": "display_data"
    }
   ],
   "source": [
    "print(history.history.keys())\n",
    "# summarize history for accuracy\n",
    "plt.plot(history.history['accuracy'])\n",
    "plt.plot(history.history['val_accuracy'])\n",
    "plt.title('model accuracy')\n",
    "plt.ylabel('accuracy')\n",
    "plt.xlabel('epoch')\n",
    "plt.legend(['train', 'test'], loc='upper left')\n",
    "plt.show()\n",
    "# summarize history for loss\n",
    "plt.plot(history.history['loss'])\n",
    "plt.plot(history.history['val_loss'])\n",
    "plt.title('model loss')\n",
    "plt.ylabel('loss')\n",
    "plt.xlabel('epoch')\n",
    "plt.legend(['train', 'test'], loc='upper left')\n",
    "plt.show()"
   ]
  },
  {
   "cell_type": "code",
   "execution_count": null,
   "metadata": {},
   "outputs": [],
   "source": []
  }
 ],
 "metadata": {
  "kernelspec": {
   "display_name": "Python 3.7 (tensorflow)",
   "language": "python",
   "name": "tensorflow"
  },
  "language_info": {
   "codemirror_mode": {
    "name": "ipython",
    "version": 3
   },
   "file_extension": ".py",
   "mimetype": "text/x-python",
   "name": "python",
   "nbconvert_exporter": "python",
   "pygments_lexer": "ipython3",
   "version": "3.7.6"
  }
 },
 "nbformat": 4,
 "nbformat_minor": 2
}
